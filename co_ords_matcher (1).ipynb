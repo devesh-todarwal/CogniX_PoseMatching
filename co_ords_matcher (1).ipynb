{
  "nbformat": 4,
  "nbformat_minor": 0,
  "metadata": {
    "colab": {
      "name": "co-ords_matcher.ipynb",
      "provenance": [],
      "collapsed_sections": []
    },
    "kernelspec": {
      "name": "python3",
      "display_name": "Python 3"
    },
    "language_info": {
      "name": "python"
    }
  },
  "cells": [
    {
      "cell_type": "code",
      "metadata": {
        "id": "J7nQmDrbUGTx"
      },
      "source": [
        "import os\n",
        "import numpy as np\n",
        "import matplotlib.pyplot as plt\n",
        "from itertools import combinations\n",
        "from sklearn.metrics import roc_curve\n",
        "from sklearn.metrics import roc_auc_score\n",
        "from sklearn.utils import resample\n",
        "from sklearn.model_selection import train_test_split\n",
        "from tqdm import tqdm"
      ],
      "execution_count": 1,
      "outputs": []
    },
    {
      "cell_type": "code",
      "source": [
        "!mkdir content/"
      ],
      "metadata": {
        "id": "wU4Os9CNEWqy"
      },
      "execution_count": 2,
      "outputs": []
    },
    {
      "cell_type": "code",
      "source": [
        "pwd"
      ],
      "metadata": {
        "colab": {
          "base_uri": "https://localhost:8080/",
          "height": 35
        },
        "id": "aWXQ965Tm--z",
        "outputId": "4022f7c3-83b7-44cb-f6a5-137f2084c4ab"
      },
      "execution_count": 3,
      "outputs": [
        {
          "output_type": "execute_result",
          "data": {
            "text/plain": [
              "'/content'"
            ],
            "application/vnd.google.colaboratory.intrinsic+json": {
              "type": "string"
            }
          },
          "metadata": {},
          "execution_count": 3
        }
      ]
    },
    {
      "cell_type": "code",
      "source": [
        "from google.colab import drive\n",
        "drive.mount('/content/drive')"
      ],
      "metadata": {
        "colab": {
          "base_uri": "https://localhost:8080/"
        },
        "id": "bQCMwvIhnkqU",
        "outputId": "8c277471-8a71-4185-f93f-ca4473301e72"
      },
      "execution_count": 4,
      "outputs": [
        {
          "output_type": "stream",
          "name": "stdout",
          "text": [
            "Mounted at /content/drive\n"
          ]
        }
      ]
    },
    {
      "cell_type": "code",
      "source": [
        "asana_dict = {}"
      ],
      "metadata": {
        "id": "nElZZ_aBwNIs"
      },
      "execution_count": 5,
      "outputs": []
    },
    {
      "cell_type": "code",
      "metadata": {
        "id": "u3vF6ZLxVYT-"
      },
      "source": [
        "def scale_transform_normalize(coords):\n",
        "    \"\"\"\n",
        "    Parameters:\n",
        "    coords (ndarray): array of (x,y,z,v) coordinates\n",
        "\n",
        "    Returns:\n",
        "    ndarray: coords scaled to 1x1 with center at (0,0)\n",
        "    ndarray: confidence scores of each joint\n",
        "    \"\"\"\n",
        "    coords, scores = coords[:,:,:-1], coords[:,:,-1]\n",
        "    diff = coords.max(axis=1) - coords.min(axis=1)\n",
        "    diff_max = np.max(diff, axis=0)\n",
        "    mean = coords.mean(axis=1).reshape(coords.shape[0],1,coords.shape[-1])\n",
        "    out = (coords - mean) / diff_max\n",
        "    \n",
        "    return out, scores"
      ],
      "execution_count": 6,
      "outputs": []
    },
    {
      "cell_type": "code",
      "source": [
        "def balanced_pairs(X_data,y_data,name=''):\n",
        "  N = y_data.shape[0]\n",
        "  X = []\n",
        "  # Prepare y\n",
        "  y = []\n",
        "  # Grab every possible combination of 2 rows\n",
        "  for index in tqdm(combinations(np.arange(N), 2)):\n",
        "    vec_1 = X_data[index[0]]\n",
        "    vec_2 = X_data[index[1]]\n",
        "    X.append(np.concatenate([vec_1, vec_2]).flatten())\n",
        "    y.append(int(y_data[index[0]] == y_data[index[1]]))\n",
        "  \n",
        "  X = np.array(X)\n",
        "  y = np.array(y)\n",
        "  trues = X[y == 1]\n",
        "  falses = X[y == 0]\n",
        "  small_falses = resample(falses, n_samples=trues.shape[0])\n",
        "\n",
        "  balanced_X = np.concatenate([trues, small_falses])\n",
        "  balanced_y = np.concatenate([np.ones((trues.shape[0],)), np.zeros((trues.shape[0]))])\n",
        "\n",
        "  np.save('/content/drive/MyDrive/content/dataset/'+name+'X', balanced_X)\n",
        "  balanced_X = None\n",
        "  np.save('/content/drive/MyDrive/content/dataset/'+name+'y', balanced_y)\n",
        "  balanced_y = None\n",
        "\n",
        "  return "
      ],
      "metadata": {
        "id": "6KEGw6qszBsR"
      },
      "execution_count": 7,
      "outputs": []
    },
    {
      "cell_type": "code",
      "source": [
        "len(os.listdir(\"/content/drive/MyDrive/Yoga-Posture-Matching/Dataset/Yoga-82/yoga_dataset_links/Keypoints\"))"
      ],
      "metadata": {
        "colab": {
          "base_uri": "https://localhost:8080/"
        },
        "id": "wFE5J0Z-6Jl2",
        "outputId": "bce12dd7-e4bc-4cd6-d4b7-a75acfb80e49"
      },
      "execution_count": 8,
      "outputs": [
        {
          "output_type": "execute_result",
          "data": {
            "text/plain": [
              "77"
            ]
          },
          "metadata": {},
          "execution_count": 8
        }
      ]
    },
    {
      "cell_type": "code",
      "source": [
        "def preprocess(kp_folder=\"/content/drive/MyDrive/Yoga-Posture-Matching/Dataset/Yoga-82/yoga_dataset_links/Keypoints\", start =0, end =76, split = True):\n",
        "  # Read all npy files\n",
        "  global asana_dict\n",
        "  X_data = []\n",
        "  y_data = []\n",
        "  dir_list = os.listdir(kp_folder)[start:end]\n",
        "  k = 0\n",
        "  for f in os.scandir(\"/content/drive/MyDrive/Yoga-Posture-Matching/Dataset/Yoga-82/yoga_dataset_links/Keypoints\"):\n",
        "      if f.is_file() and f.name != '.DS_Store' and f.name in dir_list:\n",
        "          x = np.load(f)\n",
        "          \n",
        "          # Remove empty coords\n",
        "          #x = [coords for coords in x if 4 in coords.shape]\n",
        "          #x = np.concatenate(x)\n",
        "          X_data.append(x)\n",
        "          y_data.extend([k]*x.shape[0])\n",
        "          asana_dict[k] = f.name\n",
        "          k += 1\n",
        "\n",
        "  X_data = np.concatenate(X_data)\n",
        "  #X_data = np.array(X_data)\n",
        "  y_data = np.array(y_data)\n",
        "\n",
        "  # Sanity check\n",
        "  print(\"X_data shape: {}\".format(X_data.shape))\n",
        "  print(\"y_data shape: {}\".format(y_data.shape))\n",
        "\n",
        "  N,D,C = X_data.shape\n",
        "  \n",
        "  # Prepare X\n",
        "  X_norm, scores = scale_transform_normalize(X_data)\n",
        "\n",
        "\n",
        "  scores = scores.reshape((N, D, 1))\n",
        "\n",
        "\n",
        "  X_data = np.concatenate([X_norm, scores], axis=2)\n",
        "  X_data /= np.linalg.norm(X_data, axis=2)[:, :, np.newaxis]\n",
        "\n",
        "  if split:\n",
        "    X_train, X_test, y_train, y_test = train_test_split(X_data, y_data, test_size=0.4, random_state=1)\n",
        "    balanced_pairs(X_train, y_train, 'train')\n",
        "    balanced_pairs(X_test, y_test, 'test')\n",
        "  else:\n",
        "    balanced_pairs(X_data, y_data)\n",
        "\n",
        "\n",
        "  return \n"
      ],
      "metadata": {
        "id": "UW4bNuQisp7G"
      },
      "execution_count": 9,
      "outputs": []
    },
    {
      "cell_type": "code",
      "source": [
        "preprocess() #generates pairwise training data according to args given. "
      ],
      "metadata": {
        "colab": {
          "base_uri": "https://localhost:8080/"
        },
        "id": "04xPC2Xns7Aj",
        "outputId": "c5a751d9-aef7-4df8-9337-05cb6a7f9a18"
      },
      "execution_count": 10,
      "outputs": [
        {
          "output_type": "stream",
          "name": "stdout",
          "text": [
            "X_data shape: (3456, 33, 4)\n",
            "y_data shape: (3456,)\n"
          ]
        },
        {
          "output_type": "stream",
          "name": "stderr",
          "text": [
            "2147628it [00:15, 140518.24it/s]\n",
            "955653it [00:09, 96831.09it/s]\n"
          ]
        }
      ]
    },
    {
      "cell_type": "markdown",
      "source": [
        "**STOP HERE**"
      ],
      "metadata": {
        "id": "9bzhmqVntLEi"
      }
    },
    {
      "cell_type": "markdown",
      "source": [
        "Restart Kernel if need be"
      ],
      "metadata": {
        "id": "vRgnrEId3ebh"
      }
    },
    {
      "cell_type": "markdown",
      "source": [
        "**Training on genereted pair-wise data**\n",
        "Task : classify if the pair contains same asanas or different."
      ],
      "metadata": {
        "id": "oZoRsK1iEz-0"
      }
    },
    {
      "cell_type": "code",
      "source": [
        "import numpy as np"
      ],
      "metadata": {
        "id": "jBD390Ga4vQ4"
      },
      "execution_count": 11,
      "outputs": []
    },
    {
      "cell_type": "code",
      "metadata": {
        "id": "QJpeOfgS6XQ3"
      },
      "source": [
        "from keras.models import Sequential, load_model\n",
        "from keras.layers import Dense, Activation, BatchNormalization, Dropout\n",
        "from keras.callbacks import CSVLogger"
      ],
      "execution_count": 12,
      "outputs": []
    },
    {
      "cell_type": "code",
      "source": [
        "#%cd /content/drive/MyDrive/Yoga-82/yoga_dataset_links/Final_dataset"
      ],
      "metadata": {
        "id": "9j5TvHmj4YrZ"
      },
      "execution_count": 13,
      "outputs": []
    },
    {
      "cell_type": "code",
      "source": [
        "X_train = np.load(\"/content/drive/MyDrive/content/dataset/trainX.npy\")\n",
        "X_test = np.load(\"/content/drive/MyDrive/content/dataset/testX.npy\")\n",
        "y_train = np.load(\"/content/drive/MyDrive/content/dataset/trainy.npy\")\n",
        "y_test = np.load(\"/content/drive/MyDrive/content/dataset/testy.npy\")"
      ],
      "metadata": {
        "id": "SCfadTuT3mbe"
      },
      "execution_count": 14,
      "outputs": []
    },
    {
      "cell_type": "code",
      "source": [
        "print(X_train.shape)\n",
        "print(X_test.shape)\n",
        "X_train, _, y_train, _ = train_test_split(X_train, y_train, test_size=0.0000001, random_state=2)\n",
        "print(X_train.shape)"
      ],
      "metadata": {
        "colab": {
          "base_uri": "https://localhost:8080/"
        },
        "id": "euW7zJY-4iIb",
        "outputId": "6e71c668-fb16-4981-8979-d8287856a269"
      },
      "execution_count": 15,
      "outputs": [
        {
          "output_type": "stream",
          "name": "stdout",
          "text": [
            "(57144, 264)\n",
            "(25144, 264)\n",
            "(57143, 264)\n"
          ]
        }
      ]
    },
    {
      "cell_type": "code",
      "metadata": {
        "id": "5qN0K_qXac3f"
      },
      "source": [
        "model = Sequential([\n",
        "    Dropout(0.2, input_shape=(X_train.shape[1],)),\n",
        "    Dense(128),\n",
        "    BatchNormalization(),\n",
        "    Activation('relu'),\n",
        "    Dense(128),\n",
        "    BatchNormalization(),\n",
        "    Activation('relu'),\n",
        "    Dense(128),\n",
        "    BatchNormalization(),\n",
        "    Activation('relu'),\n",
        "    Dense(1),\n",
        "    BatchNormalization(),\n",
        "    Activation('sigmoid'),\n",
        "])\n",
        "\n",
        "model.compile(optimizer='adam',\n",
        "              loss='binary_crossentropy',\n",
        "              metrics=['accuracy'])"
      ],
      "execution_count": 16,
      "outputs": []
    },
    {
      "cell_type": "code",
      "metadata": {
        "id": "hvL5EW-x6egS",
        "colab": {
          "base_uri": "https://localhost:8080/"
        },
        "outputId": "e389ce95-23a5-488b-e8e8-ecd269855deb"
      },
      "source": [
        "csv_logger = CSVLogger(\"model_history_log.csv\", append=True)\n",
        "history = model.fit(x=X_train, y=y_train,\n",
        "                    batch_size=32, epochs=100,\n",
        "                    verbose=2, validation_split=0.25,\n",
        "                    callbacks=[csv_logger])"
      ],
      "execution_count": 17,
      "outputs": [
        {
          "output_type": "stream",
          "name": "stdout",
          "text": [
            "Epoch 1/100\n",
            "1340/1340 - 6s - loss: 0.6002 - accuracy: 0.6794 - val_loss: 0.4975 - val_accuracy: 0.7655 - 6s/epoch - 4ms/step\n",
            "Epoch 2/100\n",
            "1340/1340 - 4s - loss: 0.5131 - accuracy: 0.7538 - val_loss: 0.4372 - val_accuracy: 0.8033 - 4s/epoch - 3ms/step\n",
            "Epoch 3/100\n",
            "1340/1340 - 4s - loss: 0.4676 - accuracy: 0.7849 - val_loss: 0.3884 - val_accuracy: 0.8363 - 4s/epoch - 3ms/step\n",
            "Epoch 4/100\n",
            "1340/1340 - 4s - loss: 0.4380 - accuracy: 0.8019 - val_loss: 0.3623 - val_accuracy: 0.8483 - 4s/epoch - 3ms/step\n",
            "Epoch 5/100\n",
            "1340/1340 - 4s - loss: 0.4111 - accuracy: 0.8178 - val_loss: 0.3537 - val_accuracy: 0.8470 - 4s/epoch - 3ms/step\n",
            "Epoch 6/100\n",
            "1340/1340 - 4s - loss: 0.3915 - accuracy: 0.8287 - val_loss: 0.3200 - val_accuracy: 0.8681 - 4s/epoch - 3ms/step\n",
            "Epoch 7/100\n",
            "1340/1340 - 4s - loss: 0.3785 - accuracy: 0.8354 - val_loss: 0.3207 - val_accuracy: 0.8662 - 4s/epoch - 3ms/step\n",
            "Epoch 8/100\n",
            "1340/1340 - 4s - loss: 0.3672 - accuracy: 0.8407 - val_loss: 0.3092 - val_accuracy: 0.8698 - 4s/epoch - 3ms/step\n",
            "Epoch 9/100\n",
            "1340/1340 - 4s - loss: 0.3604 - accuracy: 0.8451 - val_loss: 0.3100 - val_accuracy: 0.8742 - 4s/epoch - 3ms/step\n",
            "Epoch 10/100\n",
            "1340/1340 - 5s - loss: 0.3475 - accuracy: 0.8520 - val_loss: 0.2907 - val_accuracy: 0.8811 - 5s/epoch - 4ms/step\n",
            "Epoch 11/100\n",
            "1340/1340 - 4s - loss: 0.3399 - accuracy: 0.8548 - val_loss: 0.2848 - val_accuracy: 0.8834 - 4s/epoch - 3ms/step\n",
            "Epoch 12/100\n",
            "1340/1340 - 4s - loss: 0.3334 - accuracy: 0.8582 - val_loss: 0.2806 - val_accuracy: 0.8877 - 4s/epoch - 3ms/step\n",
            "Epoch 13/100\n",
            "1340/1340 - 4s - loss: 0.3302 - accuracy: 0.8611 - val_loss: 0.2845 - val_accuracy: 0.8873 - 4s/epoch - 3ms/step\n",
            "Epoch 14/100\n",
            "1340/1340 - 4s - loss: 0.3214 - accuracy: 0.8642 - val_loss: 0.2687 - val_accuracy: 0.8887 - 4s/epoch - 3ms/step\n",
            "Epoch 15/100\n",
            "1340/1340 - 4s - loss: 0.3172 - accuracy: 0.8653 - val_loss: 0.2647 - val_accuracy: 0.8924 - 4s/epoch - 3ms/step\n",
            "Epoch 16/100\n",
            "1340/1340 - 4s - loss: 0.3153 - accuracy: 0.8668 - val_loss: 0.2604 - val_accuracy: 0.8952 - 4s/epoch - 3ms/step\n",
            "Epoch 17/100\n",
            "1340/1340 - 4s - loss: 0.3117 - accuracy: 0.8685 - val_loss: 0.2750 - val_accuracy: 0.8910 - 4s/epoch - 3ms/step\n",
            "Epoch 18/100\n",
            "1340/1340 - 5s - loss: 0.3042 - accuracy: 0.8728 - val_loss: 0.2630 - val_accuracy: 0.8942 - 5s/epoch - 3ms/step\n",
            "Epoch 19/100\n",
            "1340/1340 - 4s - loss: 0.3009 - accuracy: 0.8739 - val_loss: 0.2471 - val_accuracy: 0.8998 - 4s/epoch - 3ms/step\n",
            "Epoch 20/100\n",
            "1340/1340 - 4s - loss: 0.2906 - accuracy: 0.8782 - val_loss: 0.2833 - val_accuracy: 0.8875 - 4s/epoch - 3ms/step\n",
            "Epoch 21/100\n",
            "1340/1340 - 4s - loss: 0.2957 - accuracy: 0.8759 - val_loss: 0.2485 - val_accuracy: 0.9011 - 4s/epoch - 3ms/step\n",
            "Epoch 22/100\n",
            "1340/1340 - 4s - loss: 0.2847 - accuracy: 0.8814 - val_loss: 0.2490 - val_accuracy: 0.9021 - 4s/epoch - 3ms/step\n",
            "Epoch 23/100\n",
            "1340/1340 - 4s - loss: 0.2847 - accuracy: 0.8822 - val_loss: 0.2427 - val_accuracy: 0.9035 - 4s/epoch - 3ms/step\n",
            "Epoch 24/100\n",
            "1340/1340 - 4s - loss: 0.2832 - accuracy: 0.8827 - val_loss: 0.2360 - val_accuracy: 0.9052 - 4s/epoch - 3ms/step\n",
            "Epoch 25/100\n",
            "1340/1340 - 4s - loss: 0.2781 - accuracy: 0.8867 - val_loss: 0.2316 - val_accuracy: 0.9084 - 4s/epoch - 3ms/step\n",
            "Epoch 26/100\n",
            "1340/1340 - 4s - loss: 0.2766 - accuracy: 0.8868 - val_loss: 0.2478 - val_accuracy: 0.9027 - 4s/epoch - 3ms/step\n",
            "Epoch 27/100\n",
            "1340/1340 - 4s - loss: 0.2742 - accuracy: 0.8849 - val_loss: 0.2510 - val_accuracy: 0.9008 - 4s/epoch - 3ms/step\n",
            "Epoch 28/100\n",
            "1340/1340 - 4s - loss: 0.2701 - accuracy: 0.8914 - val_loss: 0.2285 - val_accuracy: 0.9089 - 4s/epoch - 3ms/step\n",
            "Epoch 29/100\n",
            "1340/1340 - 4s - loss: 0.2659 - accuracy: 0.8928 - val_loss: 0.2376 - val_accuracy: 0.9070 - 4s/epoch - 3ms/step\n",
            "Epoch 30/100\n",
            "1340/1340 - 4s - loss: 0.2642 - accuracy: 0.8902 - val_loss: 0.2281 - val_accuracy: 0.9096 - 4s/epoch - 3ms/step\n",
            "Epoch 31/100\n",
            "1340/1340 - 4s - loss: 0.2633 - accuracy: 0.8936 - val_loss: 0.2325 - val_accuracy: 0.9081 - 4s/epoch - 3ms/step\n",
            "Epoch 32/100\n",
            "1340/1340 - 4s - loss: 0.2649 - accuracy: 0.8915 - val_loss: 0.2346 - val_accuracy: 0.9105 - 4s/epoch - 3ms/step\n",
            "Epoch 33/100\n",
            "1340/1340 - 4s - loss: 0.2580 - accuracy: 0.8958 - val_loss: 0.2370 - val_accuracy: 0.9068 - 4s/epoch - 3ms/step\n",
            "Epoch 34/100\n",
            "1340/1340 - 4s - loss: 0.2618 - accuracy: 0.8932 - val_loss: 0.2343 - val_accuracy: 0.9083 - 4s/epoch - 3ms/step\n",
            "Epoch 35/100\n",
            "1340/1340 - 4s - loss: 0.2552 - accuracy: 0.8956 - val_loss: 0.2322 - val_accuracy: 0.9098 - 4s/epoch - 3ms/step\n",
            "Epoch 36/100\n",
            "1340/1340 - 4s - loss: 0.2529 - accuracy: 0.8962 - val_loss: 0.2350 - val_accuracy: 0.9106 - 4s/epoch - 3ms/step\n",
            "Epoch 37/100\n",
            "1340/1340 - 4s - loss: 0.2537 - accuracy: 0.8964 - val_loss: 0.2309 - val_accuracy: 0.9124 - 4s/epoch - 3ms/step\n",
            "Epoch 38/100\n",
            "1340/1340 - 4s - loss: 0.2487 - accuracy: 0.8988 - val_loss: 0.2164 - val_accuracy: 0.9180 - 4s/epoch - 3ms/step\n",
            "Epoch 39/100\n",
            "1340/1340 - 4s - loss: 0.2518 - accuracy: 0.8973 - val_loss: 0.2298 - val_accuracy: 0.9113 - 4s/epoch - 3ms/step\n",
            "Epoch 40/100\n",
            "1340/1340 - 4s - loss: 0.2444 - accuracy: 0.9009 - val_loss: 0.2182 - val_accuracy: 0.9164 - 4s/epoch - 3ms/step\n",
            "Epoch 41/100\n",
            "1340/1340 - 4s - loss: 0.2418 - accuracy: 0.9020 - val_loss: 0.2380 - val_accuracy: 0.9082 - 4s/epoch - 3ms/step\n",
            "Epoch 42/100\n",
            "1340/1340 - 4s - loss: 0.2456 - accuracy: 0.9014 - val_loss: 0.2107 - val_accuracy: 0.9182 - 4s/epoch - 3ms/step\n",
            "Epoch 43/100\n",
            "1340/1340 - 4s - loss: 0.2415 - accuracy: 0.9012 - val_loss: 0.2188 - val_accuracy: 0.9174 - 4s/epoch - 3ms/step\n",
            "Epoch 44/100\n",
            "1340/1340 - 4s - loss: 0.2444 - accuracy: 0.9018 - val_loss: 0.2082 - val_accuracy: 0.9215 - 4s/epoch - 3ms/step\n",
            "Epoch 45/100\n",
            "1340/1340 - 4s - loss: 0.2357 - accuracy: 0.9047 - val_loss: 0.2120 - val_accuracy: 0.9196 - 4s/epoch - 3ms/step\n",
            "Epoch 46/100\n",
            "1340/1340 - 4s - loss: 0.2402 - accuracy: 0.9033 - val_loss: 0.2151 - val_accuracy: 0.9163 - 4s/epoch - 3ms/step\n",
            "Epoch 47/100\n",
            "1340/1340 - 4s - loss: 0.2340 - accuracy: 0.9047 - val_loss: 0.2114 - val_accuracy: 0.9193 - 4s/epoch - 3ms/step\n",
            "Epoch 48/100\n",
            "1340/1340 - 4s - loss: 0.2383 - accuracy: 0.9036 - val_loss: 0.2142 - val_accuracy: 0.9171 - 4s/epoch - 3ms/step\n",
            "Epoch 49/100\n",
            "1340/1340 - 4s - loss: 0.2342 - accuracy: 0.9060 - val_loss: 0.2049 - val_accuracy: 0.9222 - 4s/epoch - 3ms/step\n",
            "Epoch 50/100\n",
            "1340/1340 - 4s - loss: 0.2292 - accuracy: 0.9081 - val_loss: 0.2088 - val_accuracy: 0.9227 - 4s/epoch - 3ms/step\n",
            "Epoch 51/100\n",
            "1340/1340 - 4s - loss: 0.2270 - accuracy: 0.9089 - val_loss: 0.2196 - val_accuracy: 0.9186 - 4s/epoch - 3ms/step\n",
            "Epoch 52/100\n",
            "1340/1340 - 4s - loss: 0.2267 - accuracy: 0.9091 - val_loss: 0.2074 - val_accuracy: 0.9208 - 4s/epoch - 3ms/step\n",
            "Epoch 53/100\n",
            "1340/1340 - 4s - loss: 0.2283 - accuracy: 0.9084 - val_loss: 0.2145 - val_accuracy: 0.9210 - 4s/epoch - 3ms/step\n",
            "Epoch 54/100\n",
            "1340/1340 - 4s - loss: 0.2253 - accuracy: 0.9108 - val_loss: 0.2140 - val_accuracy: 0.9185 - 4s/epoch - 3ms/step\n",
            "Epoch 55/100\n",
            "1340/1340 - 4s - loss: 0.2244 - accuracy: 0.9123 - val_loss: 0.2088 - val_accuracy: 0.9216 - 4s/epoch - 3ms/step\n",
            "Epoch 56/100\n",
            "1340/1340 - 4s - loss: 0.2250 - accuracy: 0.9104 - val_loss: 0.2015 - val_accuracy: 0.9225 - 4s/epoch - 3ms/step\n",
            "Epoch 57/100\n",
            "1340/1340 - 4s - loss: 0.2253 - accuracy: 0.9104 - val_loss: 0.2041 - val_accuracy: 0.9232 - 4s/epoch - 3ms/step\n",
            "Epoch 58/100\n",
            "1340/1340 - 4s - loss: 0.2269 - accuracy: 0.9087 - val_loss: 0.2021 - val_accuracy: 0.9242 - 4s/epoch - 3ms/step\n",
            "Epoch 59/100\n",
            "1340/1340 - 4s - loss: 0.2212 - accuracy: 0.9123 - val_loss: 0.2002 - val_accuracy: 0.9269 - 4s/epoch - 3ms/step\n",
            "Epoch 60/100\n",
            "1340/1340 - 4s - loss: 0.2205 - accuracy: 0.9125 - val_loss: 0.2203 - val_accuracy: 0.9189 - 4s/epoch - 3ms/step\n",
            "Epoch 61/100\n",
            "1340/1340 - 4s - loss: 0.2244 - accuracy: 0.9111 - val_loss: 0.2230 - val_accuracy: 0.9188 - 4s/epoch - 3ms/step\n",
            "Epoch 62/100\n",
            "1340/1340 - 4s - loss: 0.2177 - accuracy: 0.9127 - val_loss: 0.2089 - val_accuracy: 0.9229 - 4s/epoch - 3ms/step\n",
            "Epoch 63/100\n",
            "1340/1340 - 4s - loss: 0.2206 - accuracy: 0.9134 - val_loss: 0.2052 - val_accuracy: 0.9229 - 4s/epoch - 3ms/step\n",
            "Epoch 64/100\n",
            "1340/1340 - 4s - loss: 0.2179 - accuracy: 0.9130 - val_loss: 0.1998 - val_accuracy: 0.9252 - 4s/epoch - 3ms/step\n",
            "Epoch 65/100\n",
            "1340/1340 - 4s - loss: 0.2163 - accuracy: 0.9147 - val_loss: 0.2075 - val_accuracy: 0.9210 - 4s/epoch - 3ms/step\n",
            "Epoch 66/100\n",
            "1340/1340 - 4s - loss: 0.2196 - accuracy: 0.9123 - val_loss: 0.2031 - val_accuracy: 0.9236 - 4s/epoch - 3ms/step\n",
            "Epoch 67/100\n",
            "1340/1340 - 4s - loss: 0.2154 - accuracy: 0.9149 - val_loss: 0.2129 - val_accuracy: 0.9204 - 4s/epoch - 3ms/step\n",
            "Epoch 68/100\n",
            "1340/1340 - 4s - loss: 0.2142 - accuracy: 0.9153 - val_loss: 0.1945 - val_accuracy: 0.9293 - 4s/epoch - 3ms/step\n",
            "Epoch 69/100\n",
            "1340/1340 - 4s - loss: 0.2113 - accuracy: 0.9164 - val_loss: 0.2091 - val_accuracy: 0.9226 - 4s/epoch - 3ms/step\n",
            "Epoch 70/100\n",
            "1340/1340 - 4s - loss: 0.2164 - accuracy: 0.9149 - val_loss: 0.2010 - val_accuracy: 0.9244 - 4s/epoch - 3ms/step\n",
            "Epoch 71/100\n",
            "1340/1340 - 4s - loss: 0.2102 - accuracy: 0.9186 - val_loss: 0.2141 - val_accuracy: 0.9211 - 4s/epoch - 3ms/step\n",
            "Epoch 72/100\n",
            "1340/1340 - 4s - loss: 0.2119 - accuracy: 0.9171 - val_loss: 0.2019 - val_accuracy: 0.9263 - 4s/epoch - 3ms/step\n",
            "Epoch 73/100\n",
            "1340/1340 - 4s - loss: 0.2137 - accuracy: 0.9155 - val_loss: 0.2031 - val_accuracy: 0.9247 - 4s/epoch - 3ms/step\n",
            "Epoch 74/100\n",
            "1340/1340 - 4s - loss: 0.2107 - accuracy: 0.9171 - val_loss: 0.2031 - val_accuracy: 0.9246 - 4s/epoch - 3ms/step\n",
            "Epoch 75/100\n",
            "1340/1340 - 4s - loss: 0.2121 - accuracy: 0.9161 - val_loss: 0.2097 - val_accuracy: 0.9228 - 4s/epoch - 3ms/step\n",
            "Epoch 76/100\n",
            "1340/1340 - 4s - loss: 0.2071 - accuracy: 0.9197 - val_loss: 0.1941 - val_accuracy: 0.9291 - 4s/epoch - 3ms/step\n",
            "Epoch 77/100\n",
            "1340/1340 - 4s - loss: 0.2080 - accuracy: 0.9178 - val_loss: 0.2021 - val_accuracy: 0.9269 - 4s/epoch - 3ms/step\n",
            "Epoch 78/100\n",
            "1340/1340 - 4s - loss: 0.2044 - accuracy: 0.9186 - val_loss: 0.2053 - val_accuracy: 0.9266 - 4s/epoch - 3ms/step\n",
            "Epoch 79/100\n",
            "1340/1340 - 4s - loss: 0.2111 - accuracy: 0.9166 - val_loss: 0.2129 - val_accuracy: 0.9219 - 4s/epoch - 3ms/step\n",
            "Epoch 80/100\n",
            "1340/1340 - 4s - loss: 0.2047 - accuracy: 0.9188 - val_loss: 0.1999 - val_accuracy: 0.9268 - 4s/epoch - 3ms/step\n",
            "Epoch 81/100\n",
            "1340/1340 - 4s - loss: 0.2056 - accuracy: 0.9190 - val_loss: 0.1977 - val_accuracy: 0.9291 - 4s/epoch - 3ms/step\n",
            "Epoch 82/100\n",
            "1340/1340 - 4s - loss: 0.2054 - accuracy: 0.9199 - val_loss: 0.1982 - val_accuracy: 0.9269 - 4s/epoch - 3ms/step\n",
            "Epoch 83/100\n",
            "1340/1340 - 4s - loss: 0.2032 - accuracy: 0.9200 - val_loss: 0.2009 - val_accuracy: 0.9276 - 4s/epoch - 3ms/step\n",
            "Epoch 84/100\n",
            "1340/1340 - 4s - loss: 0.2048 - accuracy: 0.9184 - val_loss: 0.2194 - val_accuracy: 0.9199 - 4s/epoch - 3ms/step\n",
            "Epoch 85/100\n",
            "1340/1340 - 4s - loss: 0.1978 - accuracy: 0.9233 - val_loss: 0.1936 - val_accuracy: 0.9291 - 4s/epoch - 3ms/step\n",
            "Epoch 86/100\n",
            "1340/1340 - 5s - loss: 0.2006 - accuracy: 0.9210 - val_loss: 0.1995 - val_accuracy: 0.9259 - 5s/epoch - 4ms/step\n",
            "Epoch 87/100\n",
            "1340/1340 - 4s - loss: 0.2043 - accuracy: 0.9198 - val_loss: 0.1945 - val_accuracy: 0.9282 - 4s/epoch - 3ms/step\n",
            "Epoch 88/100\n",
            "1340/1340 - 4s - loss: 0.1994 - accuracy: 0.9221 - val_loss: 0.1903 - val_accuracy: 0.9311 - 4s/epoch - 3ms/step\n",
            "Epoch 89/100\n",
            "1340/1340 - 4s - loss: 0.1970 - accuracy: 0.9218 - val_loss: 0.2095 - val_accuracy: 0.9231 - 4s/epoch - 3ms/step\n",
            "Epoch 90/100\n",
            "1340/1340 - 4s - loss: 0.2062 - accuracy: 0.9180 - val_loss: 0.1882 - val_accuracy: 0.9315 - 4s/epoch - 3ms/step\n",
            "Epoch 91/100\n",
            "1340/1340 - 4s - loss: 0.1975 - accuracy: 0.9242 - val_loss: 0.1870 - val_accuracy: 0.9303 - 4s/epoch - 3ms/step\n",
            "Epoch 92/100\n",
            "1340/1340 - 4s - loss: 0.1975 - accuracy: 0.9222 - val_loss: 0.2134 - val_accuracy: 0.9225 - 4s/epoch - 3ms/step\n",
            "Epoch 93/100\n",
            "1340/1340 - 4s - loss: 0.1975 - accuracy: 0.9233 - val_loss: 0.1945 - val_accuracy: 0.9289 - 4s/epoch - 3ms/step\n",
            "Epoch 94/100\n",
            "1340/1340 - 4s - loss: 0.1952 - accuracy: 0.9251 - val_loss: 0.1967 - val_accuracy: 0.9289 - 4s/epoch - 3ms/step\n",
            "Epoch 95/100\n",
            "1340/1340 - 4s - loss: 0.1945 - accuracy: 0.9237 - val_loss: 0.1934 - val_accuracy: 0.9304 - 4s/epoch - 3ms/step\n",
            "Epoch 96/100\n",
            "1340/1340 - 4s - loss: 0.2035 - accuracy: 0.9181 - val_loss: 0.1935 - val_accuracy: 0.9287 - 4s/epoch - 3ms/step\n",
            "Epoch 97/100\n",
            "1340/1340 - 4s - loss: 0.1959 - accuracy: 0.9242 - val_loss: 0.1921 - val_accuracy: 0.9290 - 4s/epoch - 3ms/step\n",
            "Epoch 98/100\n",
            "1340/1340 - 4s - loss: 0.1974 - accuracy: 0.9226 - val_loss: 0.1951 - val_accuracy: 0.9294 - 4s/epoch - 3ms/step\n",
            "Epoch 99/100\n",
            "1340/1340 - 4s - loss: 0.1944 - accuracy: 0.9240 - val_loss: 0.2010 - val_accuracy: 0.9278 - 4s/epoch - 3ms/step\n",
            "Epoch 100/100\n",
            "1340/1340 - 4s - loss: 0.1920 - accuracy: 0.9265 - val_loss: 0.1911 - val_accuracy: 0.9332 - 4s/epoch - 3ms/step\n"
          ]
        }
      ]
    },
    {
      "cell_type": "code",
      "metadata": {
        "id": "Ltxqnb1i6kDX",
        "colab": {
          "base_uri": "https://localhost:8080/",
          "height": 573
        },
        "outputId": "511bcc09-48ac-4f28-a27c-84a8d76c8681"
      },
      "source": [
        "# summarize history for accuracy\n",
        "plt.plot(history.history['accuracy'])\n",
        "plt.plot(history.history['val_accuracy'])\n",
        "plt.title('model accuracy')\n",
        "plt.ylabel('accuracy')\n",
        "plt.xlabel('epoch')\n",
        "plt.legend(['train', 'val'], loc='upper left')\n",
        "plt.show()\n",
        "\n",
        "# summarize history for loss\n",
        "plt.plot(history.history['loss'])\n",
        "plt.plot(history.history['val_loss'])\n",
        "plt.title('model loss')\n",
        "plt.ylabel('loss')\n",
        "plt.xlabel('epoch')\n",
        "plt.legend(['train', 'val'], loc='upper left')\n",
        "plt.show()"
      ],
      "execution_count": 18,
      "outputs": [
        {
          "output_type": "display_data",
          "data": {
            "text/plain": [
              "<Figure size 432x288 with 1 Axes>"
            ],
            "image/png": "[encoded data removed]"
          },
          "metadata": {
            "needs_background": "light"
          }
        },
        {
          "output_type": "display_data",
          "data": {
            "text/plain": [
              "<Figure size 432x288 with 1 Axes>"
            ],
            "image/png": "[encoded data removed]"
          },
          "metadata": {
            "needs_background": "light"
          }
        }
      ]
    },
    {
      "cell_type": "code",
      "metadata": {
        "id": "I8muT3w57s4y",
        "colab": {
          "base_uri": "https://localhost:8080/",
          "height": 297
        },
        "outputId": "3f4ed4d5-119c-403c-fe1b-36473c589fca"
      },
      "source": [
        "# Test\n",
        "y_pred = model.predict(X_test)\n",
        "\n",
        "# Check ROC, AUC\n",
        "#y_test = balanced_y540\n",
        "fpr, tpr, thresholds = roc_curve(y_test, y_pred)\n",
        "auc = roc_auc_score(y_test, y_pred)\n",
        "print('AUC: %.3f' % auc)\n",
        "\n",
        "# Plot\n",
        "plt.plot([0, 1], [0, 1], linestyle='--')\n",
        "plt.plot(fpr, tpr, marker='.')\n",
        "plt.xlabel('FPR')\n",
        "plt.ylabel('TPR')\n",
        "plt.show()"
      ],
      "execution_count": 19,
      "outputs": [
        {
          "output_type": "stream",
          "name": "stdout",
          "text": [
            "AUC: 0.945\n"
          ]
        },
        {
          "output_type": "display_data",
          "data": {
            "text/plain": [
              "<Figure size 432x288 with 1 Axes>"
            ],
            "image/png": "[encoded data removed]"
          },
          "metadata": {
            "needs_background": "light"
          }
        }
      ]
    },
    {
      "cell_type": "code",
      "metadata": {
        "id": "j4TpHetU8Ytn"
      },
      "source": [
        "from sklearn.metrics import accuracy_score"
      ],
      "execution_count": 20,
      "outputs": []
    },
    {
      "cell_type": "code",
      "metadata": {
        "id": "ozz1Eu73U_Mi",
        "colab": {
          "base_uri": "https://localhost:8080/"
        },
        "outputId": "2e2f1dd2-93f8-4ce0-d9d2-a8fec50042ef"
      },
      "source": [
        "model.save('/content/drive/MyDrive/Yoga-82/Models/mpALL77_shuffle')"
      ],
      "execution_count": 21,
      "outputs": [
        {
          "output_type": "stream",
          "name": "stdout",
          "text": [
            "INFO:tensorflow:Assets written to: /content/drive/MyDrive/Yoga-82/Models/mpALL77_shuffle/assets\n"
          ]
        }
      ]
    },
    {
      "cell_type": "code",
      "metadata": {
        "id": "2qMzZ6LnWauC"
      },
      "source": [
        "m = load_model('/content/drive/MyDrive/Yoga-82/Models/mpALL77_shuffle')\n",
        "p=m.predict(X_test)\n"
      ],
      "execution_count": 22,
      "outputs": []
    },
    {
      "cell_type": "code",
      "source": [
        "p=y_pred"
      ],
      "metadata": {
        "id": "hK7UiP3EiJm7"
      },
      "execution_count": 23,
      "outputs": []
    },
    {
      "cell_type": "code",
      "metadata": {
        "id": "c43N2zktJ4bp",
        "colab": {
          "base_uri": "https://localhost:8080/"
        },
        "outputId": "8f34b406-f9fe-4aeb-affc-557e373ecfb8"
      },
      "source": [
        "accuracy_score([int(i) for i in y_test], [int(i+0.1) for i in p])"
      ],
      "execution_count": 24,
      "outputs": [
        {
          "output_type": "execute_result",
          "data": {
            "text/plain": [
              "0.8347120585427935"
            ]
          },
          "metadata": {},
          "execution_count": 24
        }
      ]
    },
    {
      "cell_type": "code",
      "metadata": {
        "id": "n_Bk_zbIW7sv"
      },
      "source": [
        "from sklearn.metrics import f1_score, classification_report"
      ],
      "execution_count": 25,
      "outputs": []
    },
    {
      "cell_type": "code",
      "metadata": {
        "id": "Hb_C2Pse2DuK",
        "colab": {
          "base_uri": "https://localhost:8080/"
        },
        "outputId": "83091c7d-430b-4ec6-ac19-f20bc7e169c8"
      },
      "source": [
        "print(classification_report([int(i) for i in y_test],[int(i+0.1) for i in p]))"
      ],
      "execution_count": 26,
      "outputs": [
        {
          "output_type": "stream",
          "name": "stdout",
          "text": [
            "              precision    recall  f1-score   support\n",
            "\n",
            "           0       0.77      0.96      0.85     12572\n",
            "           1       0.95      0.71      0.81     12572\n",
            "\n",
            "    accuracy                           0.83     25144\n",
            "   macro avg       0.86      0.83      0.83     25144\n",
            "weighted avg       0.86      0.83      0.83     25144\n",
            "\n"
          ]
        }
      ]
    },
    {
      "cell_type": "code",
      "metadata": {
        "id": "lEinginU-wC2",
        "colab": {
          "base_uri": "https://localhost:8080/"
        },
        "outputId": "f90c3e07-caae-4ee3-afe1-6db03db2ec6c"
      },
      "source": [
        "l = len(y_train)\n",
        "y_train[l//2-5:l//2+5]"
      ],
      "execution_count": 27,
      "outputs": [
        {
          "output_type": "execute_result",
          "data": {
            "text/plain": [
              "array([0., 0., 1., 1., 0., 0., 0., 1., 1., 0.])"
            ]
          },
          "metadata": {},
          "execution_count": 27
        }
      ]
    },
    {
      "cell_type": "code",
      "source": [
        "p"
      ],
      "metadata": {
        "id": "L6AVzsQipl-9",
        "colab": {
          "base_uri": "https://localhost:8080/"
        },
        "outputId": "ded49d0f-4586-4fb2-fbb8-e4d5fb7cd000"
      },
      "execution_count": 28,
      "outputs": [
        {
          "output_type": "execute_result",
          "data": {
            "text/plain": [
              "array([[9.9703395e-01],\n",
              "       [9.7527111e-01],\n",
              "       [9.8709619e-01],\n",
              "       ...,\n",
              "       [8.7811364e-05],\n",
              "       [4.1782409e-01],\n",
              "       [5.4854751e-03]], dtype=float32)"
            ]
          },
          "metadata": {},
          "execution_count": 28
        }
      ]
    },
    {
      "cell_type": "code",
      "source": [
        "len(y_train)"
      ],
      "metadata": {
        "id": "Fll4Sm5Ipueu",
        "colab": {
          "base_uri": "https://localhost:8080/"
        },
        "outputId": "57e27a4e-277e-4ac5-ad51-5956771ac4e5"
      },
      "execution_count": 29,
      "outputs": [
        {
          "output_type": "execute_result",
          "data": {
            "text/plain": [
              "57143"
            ]
          },
          "metadata": {},
          "execution_count": 29
        }
      ]
    },
    {
      "cell_type": "code",
      "source": [
        "len(y_test)"
      ],
      "metadata": {
        "id": "Bed1OP-bquxG",
        "colab": {
          "base_uri": "https://localhost:8080/"
        },
        "outputId": "516f9efa-2331-4eaf-e9fe-e604360b2405"
      },
      "execution_count": 30,
      "outputs": [
        {
          "output_type": "execute_result",
          "data": {
            "text/plain": [
              "25144"
            ]
          },
          "metadata": {},
          "execution_count": 30
        }
      ]
    },
    {
      "cell_type": "code",
      "source": [
        "np.sum(y_test)"
      ],
      "metadata": {
        "id": "FKDVTYzIq25O",
        "colab": {
          "base_uri": "https://localhost:8080/"
        },
        "outputId": "acbd458d-2559-4ac9-dbcf-33ad4c2e4de0"
      },
      "execution_count": 31,
      "outputs": [
        {
          "output_type": "execute_result",
          "data": {
            "text/plain": [
              "12572.0"
            ]
          },
          "metadata": {},
          "execution_count": 31
        }
      ]
    },
    {
      "cell_type": "code",
      "source": [
        "train_test_split([1,2,3,4,5,6,7,8], [1,2,3,4,5,6,7,8], test_size=0.001, random_state=2)"
      ],
      "metadata": {
        "id": "p1bn_IC2rRA9",
        "colab": {
          "base_uri": "https://localhost:8080/"
        },
        "outputId": "be10a32b-b382-4d8d-dee3-1097019d5c40"
      },
      "execution_count": 32,
      "outputs": [
        {
          "output_type": "execute_result",
          "data": {
            "text/plain": [
              "[[2, 7, 3, 4, 8, 6, 1], [5], [2, 7, 3, 4, 8, 6, 1], [5]]"
            ]
          },
          "metadata": {},
          "execution_count": 32
        }
      ]
    },
    {
      "cell_type": "code",
      "source": [
        ""
      ],
      "metadata": {
        "id": "JHU2DMugZhH1"
      },
      "execution_count": 32,
      "outputs": []
    }
  ]
}