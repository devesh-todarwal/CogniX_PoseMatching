{
 "cells": [
  {
   "cell_type": "code",
   "execution_count": 1,
   "metadata": {},
   "outputs": [],
   "source": [
    "import cv2\n",
    "import mediapipe as mp\n",
    "import tensorflow as tf\n",
    "import time\n",
    "import numpy as np\n",
    "from sklearn.metrics import pairwise_distances\n",
    "import utils\n",
    "#import tflite_runtime.interpreter as tflite\n",
    "import matplotlib.pyplot as plt\n",
    "import math\n",
    "\n",
    "mp_drawing = mp.solutions.drawing_utils\n",
    "mp_drawing_styles = mp.solutions.drawing_styles\n",
    "mp_pose = mp.solutions.pose\n",
    "mp_holistic = mp.solutions.holistic"
   ]
  },
  {
   "cell_type": "code",
   "execution_count": 2,
   "metadata": {},
   "outputs": [
    {
     "name": "stderr",
     "output_type": "stream",
     "text": [
      "2022-07-06 19:25:18.428660: E tensorflow/stream_executor/cuda/cuda_driver.cc:271] failed call to cuInit: CUDA_ERROR_UNKNOWN: unknown error\n",
      "2022-07-06 19:25:18.428719: I tensorflow/stream_executor/cuda/cuda_diagnostics.cc:169] retrieving CUDA diagnostic information for host: chandra-Len\n",
      "2022-07-06 19:25:18.428726: I tensorflow/stream_executor/cuda/cuda_diagnostics.cc:176] hostname: chandra-Len\n",
      "2022-07-06 19:25:18.428861: I tensorflow/stream_executor/cuda/cuda_diagnostics.cc:200] libcuda reported version is: 515.57.0\n",
      "2022-07-06 19:25:18.428876: I tensorflow/stream_executor/cuda/cuda_diagnostics.cc:204] kernel reported version is: 515.57.0\n",
      "2022-07-06 19:25:18.428881: I tensorflow/stream_executor/cuda/cuda_diagnostics.cc:310] kernel version seems to match DSO: 515.57.0\n",
      "2022-07-06 19:25:18.429122: I tensorflow/core/platform/cpu_feature_guard.cc:193] This TensorFlow binary is optimized with oneAPI Deep Neural Network Library (oneDNN) to use the following CPU instructions in performance-critical operations:  AVX2 FMA\n",
      "To enable them in other operations, rebuild TensorFlow with the appropriate compiler flags.\n"
     ]
    }
   ],
   "source": [
    "model = tf.keras.models.load_model('./models/mpALL77_shuffle.h5')"
   ]
  },
  {
   "cell_type": "code",
   "execution_count": 3,
   "metadata": {},
   "outputs": [
    {
     "name": "stderr",
     "output_type": "stream",
     "text": [
      "INFO: Created TensorFlow Lite XNNPACK delegate for CPU.\n"
     ]
    }
   ],
   "source": [
    "interpreter =tf.lite.Interpreter(model_path='./models/pose_landmark_lite.tflite')\n",
    "interpreter.allocate_tensors()"
   ]
  },
  {
   "cell_type": "code",
   "execution_count": 4,
   "metadata": {},
   "outputs": [],
   "source": [
    "image_path = './videos/tree.gif'\n",
    "\n",
    "image_path2 = './videos/tree4.gif'\n",
    "cap1 = cv2.VideoCapture(image_path)\n",
    "cap2 = cv2.VideoCapture(image_path2)"
   ]
  },
  {
   "cell_type": "code",
   "execution_count": 5,
   "metadata": {},
   "outputs": [],
   "source": [
    "def get_pose_coord(landmarks1, landmarks2):\n",
    "    pose1= []\n",
    "    pose2= []\n",
    "    for idx, landmark in enumerate(landmarks1):\n",
    "        x = landmark.x\n",
    "        y = landmark.y\n",
    "        z = landmark.z\n",
    "        pose1.append((x,y,z))\n",
    "\n",
    "    for idx, landmark in enumerate(landmarks2):\n",
    "        x = landmark.x\n",
    "        y = landmark.y\n",
    "        z = landmark.z\n",
    "        pose2.append((x,y,z))\n",
    "    \n",
    "    return (pose1, pose2)\n",
    "\n",
    "\n",
    "    "
   ]
  },
  {
   "cell_type": "code",
   "execution_count": 6,
   "metadata": {},
   "outputs": [],
   "source": [
    "def cosine_similarity(x, y):\n",
    "    return np.dot(x, y) / (np.sqrt(np.dot(x, x)) * np.sqrt(np.dot(y, y)))"
   ]
  },
  {
   "cell_type": "code",
   "execution_count": 7,
   "metadata": {},
   "outputs": [],
   "source": [
    "def compute_similarity(pose_1, pose_2):\n",
    "    p1 = []\n",
    "    p2 = []\n",
    "\n",
    "    for joint in range(pose_1.shape[0]):\n",
    "        x1 = pose_1[joint][0]\n",
    "        y1 = pose_1[joint][1]\n",
    "        z1 = pose_1[joint][2]\n",
    "        x2 = pose_2[joint][0]\n",
    "        y2 = pose_2[joint][1]\n",
    "        z2 = pose_2[joint][2]\n",
    "\n",
    "        p1.append(x1)\n",
    "        p1.append(y1)\n",
    "        p1.append(z1)\n",
    "        p2.append(x2)\n",
    "        p2.append(y2)\n",
    "        p2.append(z2)\n",
    "\n",
    "    p1 = np.array(p1,dtype=float)\n",
    "    p2 = np.array(p2,dtype=float)\n",
    "    x = [p1,p2]\n",
    "    euclid = pairwise_distances(x)[0][1]\n",
    "    cosine = pairwise_distances(x, metric = 'cosine')[0][1]\n",
    "    \n",
    "    p1_cos = p1*1000\n",
    "    p2_cos = p2*1000\n",
    "\n",
    "    return (\"Cosine:\",cosine_similarity(p1_cos,p2_cos),\"Euclidian:\",euclid,\"Chebyshev:\", pairwise_distances(x, metric='chebyshev')[0][1])\n",
    "    #return pairwise_distances(x, metric='correlation') \n",
    "    \n"
   ]
  },
  {
   "cell_type": "code",
   "execution_count": 8,
   "metadata": {},
   "outputs": [],
   "source": [
    "def get_model_prediction(results1, results2):\n",
    "  pose1, pose2 = get_pose_coord(results1.pose_landmarks.landmark, results2.pose_landmarks.landmark)\n",
    "  pose1 = np.array(pose1)\n",
    "  pose2 = np.array(pose2)\n",
    "\n",
    "  point = results1.pose_world_landmarks.landmark\n",
    "  lists1 = [[point[val].x, point[val].y, point[val].z, point[val].visibility] for val in mp_holistic.PoseLandmark]\n",
    "\n",
    "  point = results2.pose_world_landmarks.landmark\n",
    "  lists2 = [[point[val].x, point[val].y, point[val].z, point[val].visibility] for val in mp_holistic.PoseLandmark]\n",
    "\n",
    "  inp = np.concatenate([lists1, lists2]).flatten().reshape(1, 264)\n",
    "  pred = model.predict(inp)\n",
    "  return pred[0][0]"
   ]
  },
  {
   "cell_type": "code",
   "execution_count": 9,
   "metadata": {},
   "outputs": [],
   "source": [
    "def calculateAngle(landmark1, landmark2, landmark3):\n",
    "\n",
    "    x1, y1= landmark1[0], landmark1[1]\n",
    "    x2, y2 = landmark2[0], landmark2[1]\n",
    "    x3, y3 = landmark3[0], landmark3[1]\n",
    "\n",
    "    angle = math.degrees(math.atan2(y3 - y2, x3 - x2) - math.atan2(y1 - y2, x1 - x2))    \n",
    "    \n",
    "    # if angle < 0:\n",
    "\n",
    "    \n",
    "    #     angle += 360\n",
    "    \n",
    "    return abs(angle)"
   ]
  },
  {
   "cell_type": "code",
   "execution_count": 10,
   "metadata": {},
   "outputs": [],
   "source": [
    "def get_angles(landmarks):\n",
    "\n",
    "    left_elbow_angle = calculateAngle(landmarks[11],\n",
    "                                      landmarks[13],\n",
    "                                      landmarks[15])\n",
    "    \n",
    "    # Get the angle between the right shoulder, elbow and wrist points. \n",
    "    right_elbow_angle = calculateAngle(landmarks[12],\n",
    "                                       landmarks[14],\n",
    "                                       landmarks[16])   \n",
    "    \n",
    "    # Get the angle between the left elbow, shoulder and hip points. \n",
    "    left_shoulder_angle = calculateAngle(landmarks[13],\n",
    "                                         landmarks[11],\n",
    "                                         landmarks[23])\n",
    "\n",
    "    # Get the angle between the right hip, shoulder and elbow points. \n",
    "    right_shoulder_angle = calculateAngle(landmarks[24],\n",
    "                                          landmarks[12],\n",
    "                                          landmarks[14])\n",
    "\n",
    "    # Get the angle between the left hip, knee and ankle points. \n",
    "    left_knee_angle = calculateAngle(landmarks[23],\n",
    "                                     landmarks[25],\n",
    "                                     landmarks[27])\n",
    "\n",
    "    # Get the angle between the right hip, knee and ankle points \n",
    "    right_knee_angle = calculateAngle(landmarks[24],\n",
    "                                      landmarks[26],\n",
    "                                      landmarks[28])\n",
    "\n",
    "    return [left_elbow_angle, right_elbow_angle, left_shoulder_angle, right_shoulder_angle, left_knee_angle, right_knee_angle]\n"
   ]
  },
  {
   "cell_type": "code",
   "execution_count": 11,
   "metadata": {},
   "outputs": [],
   "source": [
    "def get_angles_lite(pose):\n",
    "    left_elbow_angle = calculateAngle(landmarks[mp_pose.PoseLandmark.LEFT_SHOULDER.value],\n",
    "                                      landmarks[mp_pose.PoseLandmark.LEFT_ELBOW.value],\n",
    "                                      landmarks[mp_pose.PoseLandmark.LEFT_WRIST.value])\n",
    "    \n",
    "    # Get the angle between the right shoulder, elbow and wrist points. \n",
    "    right_elbow_angle = calculateAngle(landmarks[mp_pose.PoseLandmark.RIGHT_SHOULDER.value],\n",
    "                                       landmarks[mp_pose.PoseLandmark.RIGHT_ELBOW.value],\n",
    "                                       landmarks[mp_pose.PoseLandmark.RIGHT_WRIST.value])   \n",
    "    \n",
    "    # Get the angle between the left elbow, shoulder and hip points. \n",
    "    left_shoulder_angle = calculateAngle(landmarks[mp_pose.PoseLandmark.LEFT_ELBOW.value],\n",
    "                                         landmarks[mp_pose.PoseLandmark.LEFT_SHOULDER.value],\n",
    "                                         landmarks[mp_pose.PoseLandmark.LEFT_HIP.value])\n",
    "\n",
    "    # Get the angle between the right hip, shoulder and elbow points. \n",
    "    right_shoulder_angle = calculateAngle(landmarks[mp_pose.PoseLandmark.RIGHT_HIP.value],\n",
    "                                          landmarks[mp_pose.PoseLandmark.RIGHT_SHOULDER.value],\n",
    "                                          landmarks[mp_pose.PoseLandmark.RIGHT_ELBOW.value])\n",
    "\n",
    "    # Get the angle between the left hip, knee and ankle points. \n",
    "    left_knee_angle = calculateAngle(landmarks[mp_pose.PoseLandmark.LEFT_HIP.value],\n",
    "                                     landmarks[mp_pose.PoseLandmark.LEFT_KNEE.value],\n",
    "                                     landmarks[mp_pose.PoseLandmark.LEFT_ANKLE.value])\n",
    "\n",
    "    # Get the angle between the right hip, knee and ankle points \n",
    "    right_knee_angle = calculateAngle(landmarks[mp_pose.PoseLandmark.RIGHT_HIP.value],\n",
    "                                      landmarks[mp_pose.PoseLandmark.RIGHT_KNEE.value],\n",
    "                                      landmarks[mp_pose.PoseLandmark.RIGHT_ANKLE.value])\n"
   ]
  },
  {
   "cell_type": "code",
   "execution_count": 12,
   "metadata": {},
   "outputs": [],
   "source": [
    "def get_non_matching_joints(angles1, angles2):\n",
    "  angles_diff = np.array(angles1) - np.array(angles2)\n",
    "  names = ['left_elbow', 'right_elbow', 'left_shoulder', 'right_shoulder', 'left_knee', 'right_knee']\n",
    "\n",
    "  indexes = np.array([[(11,13), (13,15)], [(12,14), (14,16)], [(11,13), (11,23)], [(12,24), (12,14)], [(23,25), (25,27)], [(24,26), (26,28)]])\n",
    "\n",
    "  names = np.array(names)\n",
    "  out = [abs(x)/10 for x in angles_diff]\n",
    "\n",
    "  bool_arr = [0 if x<=1 else 1 for x in out]\n",
    "\n",
    "  wrong = []\n",
    "  for idx, i in enumerate(bool_arr):\n",
    "      if i==1:\n",
    "          wrong.append(indexes[idx])\n",
    "  \n",
    "  return np.array(wrong).reshape(-1,2)"
   ]
  },
  {
   "cell_type": "code",
   "execution_count": null,
   "metadata": {},
   "outputs": [],
   "source": []
  },
  {
   "cell_type": "code",
   "execution_count": 242,
   "metadata": {},
   "outputs": [
    {
     "ename": "TypeError",
     "evalue": "'NormalizedLandmark' object is not subscriptable",
     "output_type": "error",
     "traceback": [
      "\u001b[0;31m---------------------------------------------------------------------------\u001b[0m",
      "\u001b[0;31mTypeError\u001b[0m                                 Traceback (most recent call last)",
      "\u001b[1;32m/media/segate/Code/cognix/pose-matching-master/2_streams.ipynb Cell 17'\u001b[0m in \u001b[0;36m<cell line: 2>\u001b[0;34m()\u001b[0m\n\u001b[1;32m     <a href='vscode-notebook-cell:/media/segate/Code/cognix/pose-matching-master/2_streams.ipynb#ch0000012?line=30'>31</a>\u001b[0m pose2 \u001b[39m=\u001b[39m np\u001b[39m.\u001b[39marray(pose2)\n\u001b[1;32m     <a href='vscode-notebook-cell:/media/segate/Code/cognix/pose-matching-master/2_streams.ipynb#ch0000012?line=31'>32</a>\u001b[0m \u001b[39m#score = compute_similarity(pose1, pose2)\u001b[39;00m\n\u001b[1;32m     <a href='vscode-notebook-cell:/media/segate/Code/cognix/pose-matching-master/2_streams.ipynb#ch0000012?line=32'>33</a>\u001b[0m \u001b[39m# prediction = get_model_prediction(results1, results2)\u001b[39;00m\n\u001b[1;32m     <a href='vscode-notebook-cell:/media/segate/Code/cognix/pose-matching-master/2_streams.ipynb#ch0000012?line=33'>34</a>\u001b[0m \u001b[39m# print(\"Prediction\" , prediction)\u001b[39;00m\n\u001b[0;32m---> <a href='vscode-notebook-cell:/media/segate/Code/cognix/pose-matching-master/2_streams.ipynb#ch0000012?line=35'>36</a>\u001b[0m angles1 \u001b[39m=\u001b[39m get_angles(results1\u001b[39m.\u001b[39;49mpose_landmarks\u001b[39m.\u001b[39;49mlandmark)\n\u001b[1;32m     <a href='vscode-notebook-cell:/media/segate/Code/cognix/pose-matching-master/2_streams.ipynb#ch0000012?line=36'>37</a>\u001b[0m angles2 \u001b[39m=\u001b[39m get_angles(results2\u001b[39m.\u001b[39mpose_landmarks\u001b[39m.\u001b[39mlandmark)\n\u001b[1;32m     <a href='vscode-notebook-cell:/media/segate/Code/cognix/pose-matching-master/2_streams.ipynb#ch0000012?line=37'>38</a>\u001b[0m \u001b[39mprint\u001b[39m(get_non_matching_joints(angles1, angles2))\n",
      "\u001b[1;32m/media/segate/Code/cognix/pose-matching-master/2_streams.ipynb Cell 10'\u001b[0m in \u001b[0;36mget_angles\u001b[0;34m(landmarks)\u001b[0m\n\u001b[1;32m      <a href='vscode-notebook-cell:/media/segate/Code/cognix/pose-matching-master/2_streams.ipynb#ch0000011?line=0'>1</a>\u001b[0m \u001b[39mdef\u001b[39;00m \u001b[39mget_angles\u001b[39m(landmarks):\n\u001b[0;32m----> <a href='vscode-notebook-cell:/media/segate/Code/cognix/pose-matching-master/2_streams.ipynb#ch0000011?line=2'>3</a>\u001b[0m     left_elbow_angle \u001b[39m=\u001b[39m calculateAngle(landmarks[\u001b[39m11\u001b[39;49m],\n\u001b[1;32m      <a href='vscode-notebook-cell:/media/segate/Code/cognix/pose-matching-master/2_streams.ipynb#ch0000011?line=3'>4</a>\u001b[0m                                       landmarks[\u001b[39m13\u001b[39;49m],\n\u001b[1;32m      <a href='vscode-notebook-cell:/media/segate/Code/cognix/pose-matching-master/2_streams.ipynb#ch0000011?line=4'>5</a>\u001b[0m                                       landmarks[\u001b[39m15\u001b[39;49m])\n\u001b[1;32m      <a href='vscode-notebook-cell:/media/segate/Code/cognix/pose-matching-master/2_streams.ipynb#ch0000011?line=6'>7</a>\u001b[0m     \u001b[39m# Get the angle between the right shoulder, elbow and wrist points. \u001b[39;00m\n\u001b[1;32m      <a href='vscode-notebook-cell:/media/segate/Code/cognix/pose-matching-master/2_streams.ipynb#ch0000011?line=7'>8</a>\u001b[0m     right_elbow_angle \u001b[39m=\u001b[39m calculateAngle(landmarks[\u001b[39m12\u001b[39m],\n\u001b[1;32m      <a href='vscode-notebook-cell:/media/segate/Code/cognix/pose-matching-master/2_streams.ipynb#ch0000011?line=8'>9</a>\u001b[0m                                        landmarks[\u001b[39m14\u001b[39m],\n\u001b[1;32m     <a href='vscode-notebook-cell:/media/segate/Code/cognix/pose-matching-master/2_streams.ipynb#ch0000011?line=9'>10</a>\u001b[0m                                        landmarks[\u001b[39m16\u001b[39m])   \n",
      "\u001b[1;32m/media/segate/Code/cognix/pose-matching-master/2_streams.ipynb Cell 9'\u001b[0m in \u001b[0;36mcalculateAngle\u001b[0;34m(landmark1, landmark2, landmark3)\u001b[0m\n\u001b[1;32m      <a href='vscode-notebook-cell:/media/segate/Code/cognix/pose-matching-master/2_streams.ipynb#ch0000010?line=0'>1</a>\u001b[0m \u001b[39mdef\u001b[39;00m \u001b[39mcalculateAngle\u001b[39m(landmark1, landmark2, landmark3):\n\u001b[0;32m----> <a href='vscode-notebook-cell:/media/segate/Code/cognix/pose-matching-master/2_streams.ipynb#ch0000010?line=2'>3</a>\u001b[0m     x1, y1\u001b[39m=\u001b[39m landmark1[\u001b[39m0\u001b[39;49m], landmark1[\u001b[39m1\u001b[39m]\n\u001b[1;32m      <a href='vscode-notebook-cell:/media/segate/Code/cognix/pose-matching-master/2_streams.ipynb#ch0000010?line=3'>4</a>\u001b[0m     x2, y2 \u001b[39m=\u001b[39m landmark2[\u001b[39m0\u001b[39m], landmark2[\u001b[39m1\u001b[39m]\n\u001b[1;32m      <a href='vscode-notebook-cell:/media/segate/Code/cognix/pose-matching-master/2_streams.ipynb#ch0000010?line=4'>5</a>\u001b[0m     x3, y3 \u001b[39m=\u001b[39m landmark3[\u001b[39m0\u001b[39m], landmark3[\u001b[39m1\u001b[39m]\n",
      "\u001b[0;31mTypeError\u001b[0m: 'NormalizedLandmark' object is not subscriptable"
     ]
    }
   ],
   "source": [
    "count = 0\n",
    "with mp_pose.Pose(min_detection_confidence=0.5, min_tracking_confidence=0.6) as Pose_model1:\n",
    "    with mp_pose.Pose(min_detection_confidence=0.5, min_tracking_confidence=0.6) as Pose_model2:\n",
    "        while cap1.isOpened() and cap2.isOpened():\n",
    "            time.sleep(0.5)\n",
    "            \n",
    "            ret1, frame1 = cap1.read()\n",
    "            ret2, frame2 = cap2.read()\n",
    "            \n",
    "\n",
    "\n",
    "            if ret1 and ret2:\n",
    "                frame_height = max(frame1.shape[0], frame2.shape[0])\n",
    "                frame_width = max(frame1.shape[1], frame2.shape[1])\n",
    "                bg_image = np.zeros((frame_height, frame_width,3), dtype=np.uint8)\n",
    "                frame1 = cv2.cvtColor(frame1, cv2.COLOR_BGR2RGB)\n",
    "                frame1.flags.writeable= False\n",
    "                frame2 = cv2.cvtColor(frame2, cv2.COLOR_BGR2RGB)\n",
    "                frame2.flags.writeable= False\n",
    "\n",
    "                results1 = Pose_model1.process(frame1)\n",
    "                results2 = Pose_model2.process(frame2)\n",
    "\n",
    "                frame1 = cv2.cvtColor(frame1, cv2.COLOR_RGB2BGR)\n",
    "                frame1.flags.writeable= True\n",
    "                frame2 = cv2.cvtColor(frame2, cv2.COLOR_RGB2BGR)\n",
    "                frame2.flags.writeable= True\n",
    "\n",
    "                pose1, pose2 = get_pose_coord(results1.pose_landmarks.landmark, results2.pose_landmarks.landmark)\n",
    "                pose1 = np.array(pose1)\n",
    "                pose2 = np.array(pose2)\n",
    "                #score = compute_similarity(pose1, pose2)\n",
    "                # prediction = get_model_prediction(results1, results2)\n",
    "                # print(\"Prediction\" , prediction)\n",
    "\n",
    "                angles1 = get_angles(results1.pose_landmarks.landmark)\n",
    "                angles2 = get_angles(results2.pose_landmarks.landmark)\n",
    "                print(get_non_matching_joints(angles1, angles2))\n",
    "\n",
    "                if(count == 10):\n",
    "                    \n",
    "                    count = 0\n",
    "                else:\n",
    "                    count+=1\n",
    "\n",
    "                mp_drawing.draw_landmarks(\n",
    "                frame1,\n",
    "                results1.pose_landmarks,\n",
    "                mp_pose.POSE_CONNECTIONS,\n",
    "                landmark_drawing_spec=mp_drawing_styles.get_default_pose_landmarks_style())\n",
    "\n",
    "                mp_drawing.draw_landmarks(\n",
    "                frame2,\n",
    "                results2.pose_landmarks,\n",
    "                mp_pose.POSE_CONNECTIONS,\n",
    "                landmark_drawing_spec=mp_drawing_styles.get_default_pose_landmarks_style())\n",
    "\n",
    "                mp_drawing.draw_landmarks(\n",
    "                bg_image,\n",
    "                results1.pose_landmarks,\n",
    "                mp_pose.POSE_CONNECTIONS)\n",
    "\n",
    "                mp_drawing.draw_landmarks(\n",
    "                bg_image,\n",
    "                results2.pose_landmarks,\n",
    "                mp_pose.POSE_CONNECTIONS,\n",
    "                mp_drawing_styles.DrawingSpec(color =(245,117,66),thickness = 2, circle_radius=2 ),\n",
    "                mp_drawing_styles.DrawingSpec(color =(245,66,230),thickness = 2, circle_radius=2 ))\n",
    "                cv2.imshow(\"Vid1\", frame1)\n",
    "                cv2.imshow(\"vid2\", frame2)\n",
    "\n",
    "                try:\n",
    "                    str = \"Prediction:\" + prediction.astype('str')\n",
    "                except:\n",
    "                    str = \"Prediction: --\" \n",
    "\n",
    "                font                   = cv2.FONT_HERSHEY_SIMPLEX\n",
    "                bottomLeftCornerOfText = (10,frame_height - 10)\n",
    "                fontScale              = 1\n",
    "                fontColor              = (255,255,255)\n",
    "                thickness              = 1\n",
    "                lineType               = 2\n",
    "                cv2.putText(bg_image,str, \n",
    "                bottomLeftCornerOfText, \n",
    "                font, \n",
    "                fontScale,\n",
    "                fontColor,\n",
    "                thickness,\n",
    "                lineType)\n",
    "                cv2.imshow(\"Combined\", bg_image)\n",
    "\n",
    "                # cv2.imwrite('./out/combined/' + np.array([count]).astype('str')[0] + '.png', bg_image)\n",
    "                # cv2.imwrite('./out/vid1/' + np.array([count]).astype('str')[0] + '.png', frame1)\n",
    "                # cv2.imwrite('./out/vid2/' + np.array([count]).astype('str')[0] + '.png', frame2)\n",
    "\n",
    "\n",
    "            else:\n",
    "                break\n",
    "\n",
    "\n",
    "            if cv2.waitKey(10) & 0xFF == ord('q'):\n",
    "                break\n",
    "\n",
    "cap1.release()\n",
    "cap2.release()\n",
    "cv2.destroyAllWindows()"
   ]
  },
  {
   "cell_type": "markdown",
   "metadata": {},
   "source": [
    "#single image Test\n"
   ]
  },
  {
   "cell_type": "code",
   "execution_count": null,
   "metadata": {},
   "outputs": [
    {
     "name": "stderr",
     "output_type": "stream",
     "text": [
      "INFO: Created TensorFlow Lite XNNPACK delegate for CPU.\n"
     ]
    }
   ],
   "source": [
    "Pose_model1 = mp_pose.Pose(min_detection_confidence=0.5, min_tracking_confidence=0.6) \n",
    "Pose_model2 = mp_pose.Pose(min_detection_confidence=0.5, min_tracking_confidence=0.6)\n",
    "count =0"
   ]
  },
  {
   "cell_type": "code",
   "execution_count": null,
   "metadata": {},
   "outputs": [
    {
     "ename": "NameError",
     "evalue": "name 'get_pose_coord' is not defined",
     "output_type": "error",
     "traceback": [
      "\u001b[0;31m---------------------------------------------------------------------------\u001b[0m",
      "\u001b[0;31mNameError\u001b[0m                                 Traceback (most recent call last)",
      "\u001b[1;32m/media/segate/Code/cognix/pose-matching-master/2_streams.ipynb Cell 23'\u001b[0m in \u001b[0;36m<cell line: 17>\u001b[0;34m()\u001b[0m\n\u001b[1;32m     <a href='vscode-notebook-cell:/media/segate/Code/cognix/pose-matching-master/2_streams.ipynb#ch0000017?line=13'>14</a>\u001b[0m frame2 \u001b[39m=\u001b[39m cv2\u001b[39m.\u001b[39mcvtColor(frame2, cv2\u001b[39m.\u001b[39mCOLOR_RGB2BGR)\n\u001b[1;32m     <a href='vscode-notebook-cell:/media/segate/Code/cognix/pose-matching-master/2_streams.ipynb#ch0000017?line=14'>15</a>\u001b[0m frame2\u001b[39m.\u001b[39mflags\u001b[39m.\u001b[39mwriteable\u001b[39m=\u001b[39m \u001b[39mTrue\u001b[39;00m\n\u001b[0;32m---> <a href='vscode-notebook-cell:/media/segate/Code/cognix/pose-matching-master/2_streams.ipynb#ch0000017?line=16'>17</a>\u001b[0m pose1, pose2 \u001b[39m=\u001b[39m get_pose_coord(results1\u001b[39m.\u001b[39mpose_landmarks\u001b[39m.\u001b[39mlandmark, results2\u001b[39m.\u001b[39mpose_landmarks\u001b[39m.\u001b[39mlandmark)\n\u001b[1;32m     <a href='vscode-notebook-cell:/media/segate/Code/cognix/pose-matching-master/2_streams.ipynb#ch0000017?line=17'>18</a>\u001b[0m pose1 \u001b[39m=\u001b[39m np\u001b[39m.\u001b[39marray(pose1)\n\u001b[1;32m     <a href='vscode-notebook-cell:/media/segate/Code/cognix/pose-matching-master/2_streams.ipynb#ch0000017?line=18'>19</a>\u001b[0m pose2 \u001b[39m=\u001b[39m np\u001b[39m.\u001b[39marray(pose2)\n",
      "\u001b[0;31mNameError\u001b[0m: name 'get_pose_coord' is not defined"
     ]
    }
   ],
   "source": [
    "frame_height = max(frame1.shape[0], frame2.shape[0])\n",
    "frame_width = max(frame1.shape[1], frame2.shape[1])\n",
    "bg_image = np.zeros((frame_height, frame_width,3), dtype=np.uint8)\n",
    "frame1 = cv2.cvtColor(frame1, cv2.COLOR_BGR2RGB)\n",
    "frame1.flags.writeable= False\n",
    "frame2 = cv2.cvtColor(frame2, cv2.COLOR_BGR2RGB)\n",
    "frame2.flags.writeable= False\n",
    "\n",
    "results1 = Pose_model1.process(frame1)\n",
    "results2 = Pose_model2.process(frame2)\n",
    "\n",
    "frame1 = cv2.cvtColor(frame1, cv2.COLOR_RGB2BGR)\n",
    "frame1.flags.writeable= True\n",
    "frame2 = cv2.cvtColor(frame2, cv2.COLOR_RGB2BGR)\n",
    "frame2.flags.writeable= True\n",
    "\n",
    "pose1, pose2 = get_pose_coord(results1.pose_landmarks.landmark, results2.pose_landmarks.landmark)\n",
    "pose1 = np.array(pose1)\n",
    "pose2 = np.array(pose2)\n",
    "#score = compute_similarity(pose1, pose2)\n",
    "# prediction = get_model_prediction(results1, results2)\n",
    "# print(\"Prediction\" , prediction)\n",
    "\n",
    "angles1 = get_angles(results1.pose_landmarks.landmark)\n",
    "angles2 = get_angles(results2.pose_landmarks.landmark)\n",
    "print(get_non_matching_joints(angles1, angles2))\n",
    "if(count == 100):\n",
    "    \n",
    "    count = 0\n",
    "else:\n",
    "    count+=1\n",
    "\n",
    "mp_drawing.draw_landmarks(\n",
    "frame1,\n",
    "results1.pose_landmarks,\n",
    "mp_pose.POSE_CONNECTIONS,\n",
    "landmark_drawing_spec=mp_drawing_styles.get_default_pose_landmarks_style())\n",
    "\n",
    "mp_drawing.draw_landmarks(\n",
    "frame2,\n",
    "results2.pose_landmarks,\n",
    "mp_pose.POSE_CONNECTIONS,\n",
    "landmark_drawing_spec=mp_drawing_styles.get_default_pose_landmarks_style())\n",
    "\n",
    "mp_drawing.draw_landmarks(\n",
    "bg_image,\n",
    "results1.pose_landmarks,\n",
    "mp_pose.POSE_CONNECTIONS)\n",
    "\n",
    "mp_drawing.draw_landmarks(\n",
    "bg_image,\n",
    "results2.pose_landmarks,\n",
    "mp_pose.POSE_CONNECTIONS,\n",
    "mp_drawing_styles.DrawingSpec(color =(245,117,66),thickness = 2, circle_radius=2 ),\n",
    "mp_drawing_styles.DrawingSpec(color =(245,66,230),thickness = 2, circle_radius=2 ))\n",
    "#cv2.imshow(\"Vid1\", frame1)\n",
    "#cv2.imshow(\"vid2\", frame2)\n",
    "\n",
    "try:\n",
    "    str = \"Prediction:\" + prediction.astype('str')\n",
    "except:\n",
    "    str = \"Prediction: --\" \n",
    "\n",
    "font                   = cv2.FONT_HERSHEY_SIMPLEX\n",
    "bottomLeftCornerOfText = (10,frame_height - 10)\n",
    "fontScale              = 1\n",
    "fontColor              = (255,255,255)\n",
    "thickness              = 1\n",
    "lineType               = 2\n",
    "cv2.putText(bg_image,str, \n",
    "bottomLeftCornerOfText, \n",
    "font, \n",
    "fontScale,\n",
    "fontColor,\n",
    "thickness,\n",
    "lineType)\n",
    "#cv2.imshow(\"Combined\", bg_image)\n",
    "\n",
    "# cv2.imwrite('./out/combined/' + np.array([count]).astype('str')[0] + '.png', bg_image)\n",
    "# cv2.imwrite('./out/vid1/' + np.array([count]).astype('str')[0] + '.png', frame1)\n",
    "# cv2.imwrite('./out/vid2/' + np.array([count]).astype('str')[0] + '.png', frame2)\n"
   ]
  },
  {
   "cell_type": "markdown",
   "metadata": {},
   "source": [
    "TFLITE Processing"
   ]
  },
  {
   "cell_type": "code",
   "execution_count": 13,
   "metadata": {},
   "outputs": [],
   "source": [
    "interpreter1 =tf.lite.Interpreter(model_path='./models/pose_landmark_lite.tflite')\n",
    "interpreter1.allocate_tensors()\n",
    "\n",
    "interpreter2 =tf.lite.Interpreter(model_path='./models/pose_landmark_lite.tflite')\n",
    "interpreter2.allocate_tensors()"
   ]
  },
  {
   "cell_type": "code",
   "execution_count": 14,
   "metadata": {},
   "outputs": [],
   "source": [
    "def tflite_predict(frame):\n",
    "    img = frame.copy()\n",
    "    #img = tf.image.resize_with_pad(np.expand_dims(img, axis =0), 256,256)\n",
    "    img= cv2.resize(img,dsize=(256,256), interpolation = cv2.INTER_CUBIC)\n",
    "    img = np.expand_dims(img, axis =0)\n",
    "    inp_img= tf.cast(img, dtype=tf.float32)\n",
    "\n",
    "    input_details = interpreter1.get_input_details()\n",
    "    output_details = interpreter1.get_output_details()\n",
    "\n",
    "    interpreter.set_tensor(interpreter.get_input_details()[0]['index'], np.array(inp_img))\n",
    "    interpreter.invoke()\n",
    "\n",
    "    keypoints = interpreter.get_tensor(output_details[0]['index'])\n",
    "\n",
    "    return keypoints"
   ]
  },
  {
   "cell_type": "code",
   "execution_count": 15,
   "metadata": {},
   "outputs": [],
   "source": [
    "def process(keypoints):\n",
    "    arr = []\n",
    "    for i in range(33):\n",
    "        elt = keypoints.squeeze()[5*i:(5*i)+3]\n",
    "        elt = np.append(elt, sigmoid(keypoints.squeeze()[(5*i)+3]))\n",
    "        elt = np.append(elt, sigmoid(keypoints.squeeze()[(5*i)+4]))\n",
    "        arr.append(elt)\n",
    "    arr = np.array(arr)\n",
    "\n",
    "    return arr"
   ]
  },
  {
   "cell_type": "code",
   "execution_count": 16,
   "metadata": {},
   "outputs": [],
   "source": [
    "def visible(keypoints, visibility_threshold=0.5):\n",
    "    idx_of_visible_points = []\n",
    "\n",
    "    for idx, elt in enumerate(keypoints):\n",
    "        if(elt[3]>visibility_threshold):\n",
    "            idx_of_visible_points.append(idx)\n",
    "    return idx_of_visible_points"
   ]
  },
  {
   "cell_type": "code",
   "execution_count": 17,
   "metadata": {},
   "outputs": [
    {
     "ename": "NameError",
     "evalue": "name 'sigmoid' is not defined",
     "output_type": "error",
     "traceback": [
      "\u001b[0;31m---------------------------------------------------------------------------\u001b[0m",
      "\u001b[0;31mNameError\u001b[0m                                 Traceback (most recent call last)",
      "\u001b[1;32m/media/segate/Code/cognix/pose-matching-master/2_streams.ipynb Cell 23'\u001b[0m in \u001b[0;36m<cell line: 6>\u001b[0;34m()\u001b[0m\n\u001b[1;32m      <a href='vscode-notebook-cell:/media/segate/Code/cognix/pose-matching-master/2_streams.ipynb#ch0000038?line=3'>4</a>\u001b[0m keypoints2 \u001b[39m=\u001b[39m tflite_predict(img)\n\u001b[1;32m      <a href='vscode-notebook-cell:/media/segate/Code/cognix/pose-matching-master/2_streams.ipynb#ch0000038?line=4'>5</a>\u001b[0m img_height, img_width, _ \u001b[39m=\u001b[39m img\u001b[39m.\u001b[39mshape\n\u001b[0;32m----> <a href='vscode-notebook-cell:/media/segate/Code/cognix/pose-matching-master/2_streams.ipynb#ch0000038?line=5'>6</a>\u001b[0m keypoints2 \u001b[39m=\u001b[39m process(keypoints2)\n\u001b[1;32m      <a href='vscode-notebook-cell:/media/segate/Code/cognix/pose-matching-master/2_streams.ipynb#ch0000038?line=6'>7</a>\u001b[0m x,y,z,v,p \u001b[39m=\u001b[39mkeypoints2\u001b[39m.\u001b[39mT\n\u001b[1;32m      <a href='vscode-notebook-cell:/media/segate/Code/cognix/pose-matching-master/2_streams.ipynb#ch0000038?line=7'>8</a>\u001b[0m idx_of_visible_points \u001b[39m=\u001b[39m visible(keypoints, \u001b[39m0\u001b[39m)\n",
      "\u001b[1;32m/media/segate/Code/cognix/pose-matching-master/2_streams.ipynb Cell 21'\u001b[0m in \u001b[0;36mprocess\u001b[0;34m(keypoints)\u001b[0m\n\u001b[1;32m      <a href='vscode-notebook-cell:/media/segate/Code/cognix/pose-matching-master/2_streams.ipynb#ch0000019?line=2'>3</a>\u001b[0m \u001b[39mfor\u001b[39;00m i \u001b[39min\u001b[39;00m \u001b[39mrange\u001b[39m(\u001b[39m33\u001b[39m):\n\u001b[1;32m      <a href='vscode-notebook-cell:/media/segate/Code/cognix/pose-matching-master/2_streams.ipynb#ch0000019?line=3'>4</a>\u001b[0m     elt \u001b[39m=\u001b[39m keypoints\u001b[39m.\u001b[39msqueeze()[\u001b[39m5\u001b[39m\u001b[39m*\u001b[39mi:(\u001b[39m5\u001b[39m\u001b[39m*\u001b[39mi)\u001b[39m+\u001b[39m\u001b[39m3\u001b[39m]\n\u001b[0;32m----> <a href='vscode-notebook-cell:/media/segate/Code/cognix/pose-matching-master/2_streams.ipynb#ch0000019?line=4'>5</a>\u001b[0m     elt \u001b[39m=\u001b[39m np\u001b[39m.\u001b[39mappend(elt, sigmoid(keypoints\u001b[39m.\u001b[39msqueeze()[(\u001b[39m5\u001b[39m\u001b[39m*\u001b[39mi)\u001b[39m+\u001b[39m\u001b[39m3\u001b[39m]))\n\u001b[1;32m      <a href='vscode-notebook-cell:/media/segate/Code/cognix/pose-matching-master/2_streams.ipynb#ch0000019?line=5'>6</a>\u001b[0m     elt \u001b[39m=\u001b[39m np\u001b[39m.\u001b[39mappend(elt, sigmoid(keypoints\u001b[39m.\u001b[39msqueeze()[(\u001b[39m5\u001b[39m\u001b[39m*\u001b[39mi)\u001b[39m+\u001b[39m\u001b[39m4\u001b[39m]))\n\u001b[1;32m      <a href='vscode-notebook-cell:/media/segate/Code/cognix/pose-matching-master/2_streams.ipynb#ch0000019?line=6'>7</a>\u001b[0m     arr\u001b[39m.\u001b[39mappend(elt)\n",
      "\u001b[0;31mNameError\u001b[0m: name 'sigmoid' is not defined"
     ]
    }
   ],
   "source": [
    "img = cv2.imread('./images/nadal1.jpg')\n",
    "img2= cv2.resize(img,dsize=(256,256), interpolation = cv2.INTER_CUBIC)\n",
    "\n",
    "keypoints2 = tflite_predict(img)\n",
    "img_height, img_width, _ = img.shape\n",
    "keypoints2 = process(keypoints2)\n",
    "x,y,z,v,p =keypoints2.T\n",
    "idx_of_visible_points = visible(keypoints, 0)\n",
    "not_matching = get_non_matching_joints(get_angles(keypoints1), get_angles(keypoints2))\n",
    "\n",
    "# draw_landmarks(img2,keypoints2, 0, not_matching)\n",
    "\n",
    "# idx_of_visible_points = visible(keypoints2, 0)\n",
    "\n",
    "# not_matching = get_non_matching_joints(get_angles(keypoints1), get_angles(keypoints2))\n",
    "\n",
    "for i in connections:\n",
    "    if i[0] in idx_of_visible_points and i[1] in idx_of_visible_points:\n",
    "        point1 = ((x[i[0]]*img_width/256).astype('int'), (y[i[0]]*img_height/256).astype('int'))\n",
    "        point2 = ((x[i[1]]*img_width/256).astype('int'), (y[i[1]]*img_height/256).astype('int'))\n",
    "        if i in not_matching:\n",
    "            cv2.line(img2, (x[i[0]].astype('int'),y[i[0]].astype('int')) ,(x[i[1]].astype('int'),y[i[1]].astype('int')) ,(255, 0, 0), 2)\n",
    "            continue\n",
    "        cv2.line(img2, (x[i[0]].astype('int'),y[i[0]].astype('int')) ,(x[i[1]].astype('int'),y[i[1]].astype('int')) ,(255, 0, 0), 2)\n",
    "\n",
    "\n",
    "# x = x[::-1]\n",
    "# y = y[::-1]\n",
    "\n",
    "# for i in connections:\n",
    "#     cv2.line(img2, point1,point2 , (0, 255, 0), 2)\n",
    "\n",
    "plt.imshow(img2)\n",
    "plt.show()"
   ]
  },
  {
   "cell_type": "code",
   "execution_count": 18,
   "metadata": {},
   "outputs": [],
   "source": [
    "def sigmoid(x):\n",
    "  return 1 / (1 + math.exp(-x))"
   ]
  },
  {
   "cell_type": "code",
   "execution_count": 268,
   "metadata": {},
   "outputs": [],
   "source": [
    "cap3 = cv2.VideoCapture(0)\n",
    "\n",
    "for i in range(50):\n",
    "    ret,frame = cap3.read()\n",
    "    if ret:\n",
    "\n",
    "        keypoints = tflite_predict(frame)\n",
    "        img= cv2.resize(frame,dsize=(256,256), interpolation = cv2.INTER_CUBIC)\n",
    "\n",
    "        keypoints = process(keypoints)\n",
    "\n",
    "        x,y,z,v,p =keypoints.T\n",
    "\n",
    "        idx_of_visible_points = visible(keypoints)\n",
    "\n",
    "        draw_landmarks(frame, keypoints, 0.5)\n",
    "            \n",
    "        cv2.imshow(\"vid\", frame)\n",
    "\n",
    "\n",
    "        if cv2.waitKey(10) & 0xFF == ord('q'):\n",
    "            break\n",
    "cap3.release()\n",
    "cv2.destroyAllWindows()"
   ]
  },
  {
   "cell_type": "code",
   "execution_count": 19,
   "metadata": {},
   "outputs": [],
   "source": [
    "def draw_landmarks(image, keypoints, visibility_threshold, wrong_joints = []):\n",
    "    img_height, img_width, _ = image.shape\n",
    "    idx_of_visible_points = visible(keypoints, visibility_threshold)\n",
    "\n",
    "    connections = frozenset({(0, 1),(0, 4),(1, 2),(2, 3),(3, 7),(4, 5),(5, 6),(6, 8),(9, 10),(11, 12),(11, 13),(11, 23),(12, 14),(12, 24),(13, 15),(14, 16),(15, 17),(15, 19),(15, 21),(16, 18),(16, 20),(16, 22),(17, 19),(18, 20),(23, 24),(23, 25),(24, 26),(25, 27),(26, 28),(27, 29),(27, 31),(28, 30),(28, 32),(29, 31),(30, 32)})\n",
    "\n",
    "    for i in connections:\n",
    "        if i[0] in idx_of_visible_points and i[1] in idx_of_visible_points:\n",
    "            point1 = ((x[i[0]]*img_width/256).astype('int'), (y[i[0]]*img_height/256).astype('int'))\n",
    "            point2 = ((x[i[1]]*img_width/256).astype('int'), (y[i[1]]*img_height/256).astype('int'))\n",
    "            if i in wrong_joints:\n",
    "                cv2.line(image, point1,point2 , (255, 0, 0), 2)\n",
    "                continue\n",
    "            cv2.line(image, point1,point2 , (0, 255, 0), 2)\n",
    "            \n",
    "    "
   ]
  },
  {
   "cell_type": "code",
   "execution_count": 32,
   "metadata": {},
   "outputs": [],
   "source": [
    "def correctness(not_matching):\n",
    "    return 1- (len(not_matching)/2)/6"
   ]
  },
  {
   "cell_type": "code",
   "execution_count": 33,
   "metadata": {},
   "outputs": [
    {
     "data": {
      "text/plain": [
       "0.33333333333333337"
      ]
     },
     "execution_count": 33,
     "metadata": {},
     "output_type": "execute_result"
    }
   ],
   "source": [
    "correctness(not_matching)"
   ]
  },
  {
   "cell_type": "code",
   "execution_count": 46,
   "metadata": {},
   "outputs": [
    {
     "data": {
      "text/plain": [
       "1"
      ]
     },
     "execution_count": 46,
     "metadata": {},
     "output_type": "execute_result"
    }
   ],
   "source": [
    "detect_body(keypoints2)"
   ]
  },
  {
   "cell_type": "code",
   "execution_count": 43,
   "metadata": {},
   "outputs": [],
   "source": [
    "def detect_body(keypoints):\n",
    "    threshold = 0.4\n",
    "    for elt in keypoints:\n",
    "        if(elt[3]< threshold):\n",
    "            return 0\n",
    "    return 1"
   ]
  },
  {
   "cell_type": "code",
   "execution_count": 22,
   "metadata": {},
   "outputs": [
    {
     "data": {
      "image/png": "[encoded data removed]",
      "text/plain": [
       "<Figure size 432x288 with 1 Axes>"
      ]
     },
     "metadata": {
      "needs_background": "light"
     },
     "output_type": "display_data"
    }
   ],
   "source": [
    "ret,frame2 = cap2.read()\n",
    "\n",
    "keypoints2 = tflite_predict(frame2)\n",
    "img_height, img_width, _ = frame2.shape\n",
    "keypoints2 = process(keypoints2)\n",
    "x,y,z,v,p =keypoints2.T\n",
    "\n",
    "not_matching = get_non_matching_joints(get_angles(keypoints1), get_angles(keypoints2))\n",
    "\n",
    "draw_landmarks(frame2,keypoints2, 0, not_matching)\n",
    "\n",
    "# idx_of_visible_points = visible(keypoints2, 0)\n",
    "\n",
    "# not_matching = get_non_matching_joints(get_angles(keypoints1), get_angles(keypoints2))\n",
    "\n",
    "# for i in connections:\n",
    "#     if i[0] in idx_of_visible_points and i[1] in idx_of_visible_points:\n",
    "#         point1 = ((x[i[0]]*img_width/256).astype('int'), (y[i[0]]*img_height/256).astype('int'))\n",
    "#         point2 = ((x[i[1]]*img_width/256).astype('int'), (y[i[1]]*img_height/256).astype('int'))\n",
    "#         if i in not_matching:\n",
    "#             cv2.line(frame2, point1,point2 , (255, 0, 0), 2)\n",
    "#             continue\n",
    "#         cv2.line(frame2, point1,point2 , (0, 255, 0), 2)\n",
    "\n",
    "\n",
    "# x = x[::-1]\n",
    "# y = y[::-1]\n",
    "\n",
    "# for i in connections:\n",
    "#     cv2.line(img2, point1,point2 , (0, 255, 0), 2)\n",
    "\n",
    "cv2.imwrite('./' + '0' + '.png', frame2)\n",
    "\n",
    "plt.imshow(frame2)\n",
    "plt.show()"
   ]
  },
  {
   "cell_type": "code",
   "execution_count": 21,
   "metadata": {},
   "outputs": [
    {
     "data": {
      "image/png": "[encoded data removed]",
      "text/plain": [
       "<Figure size 432x288 with 1 Axes>"
      ]
     },
     "metadata": {
      "needs_background": "light"
     },
     "output_type": "display_data"
    }
   ],
   "source": [
    "ret,frame1 = cap1.read()\n",
    "\n",
    "keypoints1 = tflite_predict(frame1)\n",
    "img_height, img_width, _ = frame2.shape\n",
    "keypoints1 = process(keypoints1)\n",
    "x,y,z,v,p =keypoints1.T\n",
    "draw_landmarks(frame1, keypoints1, 0)\n",
    "\n",
    "plt.imshow(frame1)\n",
    "plt.show()\n",
    "plt.show()"
   ]
  }
 ],
 "metadata": {
  "kernelspec": {
   "display_name": "Python 3.10.5 ('env1')",
   "language": "python",
   "name": "python3"
  },
  "language_info": {
   "codemirror_mode": {
    "name": "ipython",
    "version": 3
   },
   "file_extension": ".py",
   "mimetype": "text/x-python",
   "name": "python",
   "nbconvert_exporter": "python",
   "pygments_lexer": "ipython3",
   "version": "3.10.5"
  },
  "orig_nbformat": 4,
  "vscode": {
   "interpreter": {
    "hash": "c76be22c44012077b6e31f15d28eccdbbb1c9916bfae7aaff63eb549681cdcf9"
   }
  }
 },
 "nbformat": 4,
 "nbformat_minor": 2
}
